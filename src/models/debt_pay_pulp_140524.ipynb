{
  "nbformat": 4,
  "nbformat_minor": 0,
  "metadata": {
    "colab": {
      "provenance": []
    },
    "kernelspec": {
      "name": "python3",
      "display_name": "Python 3"
    },
    "language_info": {
      "name": "python"
    }
  },
  "cells": [
    {
      "cell_type": "markdown",
      "source": [
        "Debt Optimization"
      ],
      "metadata": {
        "id": "8qAr0P55qbJE"
      }
    },
    {
      "cell_type": "code",
      "source": [
        "!pip install pulp"
      ],
      "metadata": {
        "colab": {
          "base_uri": "https://localhost:8080/"
        },
        "id": "TbBX6Jh8tN8B",
        "outputId": "5d3a8401-36da-429d-ad6f-a7b82a525bfc"
      },
      "execution_count": null,
      "outputs": [
        {
          "output_type": "stream",
          "name": "stdout",
          "text": [
            "Collecting pulp\n",
            "  Downloading PuLP-2.8.0-py3-none-any.whl (17.7 MB)\n",
            "\u001b[2K     \u001b[90m━━━━━━━━━━━━━━━━━━━━━━━━━━━━━━━━━━━━━━━━\u001b[0m \u001b[32m17.7/17.7 MB\u001b[0m \u001b[31m31.9 MB/s\u001b[0m eta \u001b[36m0:00:00\u001b[0m\n",
            "\u001b[?25hInstalling collected packages: pulp\n",
            "Successfully installed pulp-2.8.0\n"
          ]
        }
      ]
    },
    {
      "cell_type": "code",
      "source": [
        "import pandas as pd\n",
        "import numpy as np\n",
        "\n",
        "# Define the number of debts for one student\n",
        "num_debts = np.random.randint(2, 5)  # One student has 2 to 4 debts\n",
        "\n",
        "# Generate synthetic data for characteristics of one student\n",
        "student_characteristics = {\n",
        "    'Student ID': 1,\n",
        "    'Fellowship Amount': 2000,\n",
        "    'Daily Needs Funds': 800,\n",
        "    'Part-time Job Income': 1000,\n",
        "    'Emergency Funds': 300,\n",
        "}\n",
        "\n",
        "# Initialize empty lists to store data\n",
        "debts = []\n",
        "balances = []\n",
        "interest_rates = []\n",
        "minimum_monthly_payments = []\n",
        "loan_tenures = []  # List to store loan tenure for each debt\n",
        "\n",
        "# Generate synthetic data for the student's debts\n",
        "for debt_id in range(1, num_debts + 1):\n",
        "    debts.append(debt_id)\n",
        "    balance = np.random.randint(12000, 20000)  # Random principal loan amount between 8000 and 15000\n",
        "    balances.append(balance)\n",
        "    interest_rate = np.random.uniform(0.05, 0.2)  # Random interest rate between 5% and 20%\n",
        "    interest_rates.append(interest_rate)\n",
        "    loan_tenure = np.random.randint(36, 60)  # Random loan tenure between 1 and 5 years (12 to 60 months)\n",
        "    loan_tenures.append(loan_tenure)\n",
        "    minimum_monthly_payment = balance / loan_tenure  # Calculate minimum monthly payment based on balance and tenure\n",
        "    minimum_monthly_payments.append(minimum_monthly_payment)\n",
        "\n",
        "# Create DataFrame for the student's debts\n",
        "student_debt_data = pd.DataFrame({\n",
        "    'Debt ID': debts,\n",
        "    'Balance': balances,\n",
        "    'Interest Rate': interest_rates,\n",
        "    'Minimum Monthly Payment': minimum_monthly_payments,\n",
        "    'Loan Tenure (months)': loan_tenures\n",
        "})\n",
        "\n",
        "total_available_funds = student_characteristics['Part-time Job Income'] + \\\n",
        "        student_characteristics['Fellowship Amount'] - \\\n",
        "        student_characteristics['Daily Needs Funds'] - \\\n",
        "        student_characteristics['Emergency Funds']\n",
        "\n",
        "# Display the student's financial profile\n",
        "print(f\"Student's Total Available Funds per month: {total_available_funds}\")\n",
        "print(student_debt_data)\n"
      ],
      "metadata": {
        "colab": {
          "base_uri": "https://localhost:8080/"
        },
        "id": "0wXvp3AhJ1X0",
        "outputId": "369c102e-b6bd-4b7b-edf1-4058479be4c4"
      },
      "execution_count": null,
      "outputs": [
        {
          "output_type": "stream",
          "name": "stdout",
          "text": [
            "Student's Total Available Funds per month: 1900\n",
            "   Debt ID  Balance  Interest Rate  Minimum Monthly Payment  \\\n",
            "0        1    18813       0.113928               408.978261   \n",
            "1        2    18092       0.157561               311.931034   \n",
            "2        3    17018       0.103446               321.094340   \n",
            "3        4    14355       0.136969               281.470588   \n",
            "\n",
            "   Loan Tenure (months)  \n",
            "0                    46  \n",
            "1                    58  \n",
            "2                    53  \n",
            "3                    51  \n"
          ]
        }
      ]
    },
    {
      "cell_type": "code",
      "source": [
        "from pulp import LpProblem, LpMinimize, LpVariable, lpSum, LpStatus\n",
        "\n",
        "def optimize_payments(debt_data, available_funds):\n",
        "    # Create the problem\n",
        "    prob = LpProblem(\"Debt_Payment_Strategy\", LpMinimize)\n",
        "\n",
        "    # Calculate the total minimum payments\n",
        "    total_minimum_payments = debt_data['Minimum Monthly Payment'].sum()\n",
        "\n",
        "    # Determine the excess funds available for additional payments\n",
        "    excess_funds = available_funds - total_minimum_payments\n",
        "\n",
        "    # Define decision variables for the additional payments above the minimum\n",
        "    extra_payment_vars = [LpVariable(f\"Extra_Payment_{i}\", lowBound=0) for i in range(len(debt_data))]\n",
        "\n",
        "    # Define the objective function to maximize the reduction in total interest cost\n",
        "    prob += -lpSum([extra_payment_vars[i] * debt_data['Interest Rate'].iloc[i] for i in range(len(debt_data))])\n",
        "\n",
        "    # Add constraints for each debt\n",
        "    for i in range(len(debt_data)):\n",
        "        row = debt_data.iloc[i]\n",
        "        # Ensure additional payments do not exceed the debt balance minus the minimum payment\n",
        "        prob += extra_payment_vars[i] <= row['Balance'] - row['Minimum Monthly Payment'], f\"Extra_payment_limit_debt_{i}\"\n",
        "\n",
        "    # Add a constraint for the total additional funds\n",
        "    prob += lpSum(extra_payment_vars) <= excess_funds, \"Excess_funds_limit\"\n",
        "\n",
        "    # Solve the problem\n",
        "    prob.solve()\n",
        "\n",
        "    # Check if the problem is solved successfully\n",
        "    if prob.status == 1:\n",
        "        # Return the payment allocation including the minimum payments\n",
        "        payment_allocation = {f\"Debt_{i}\": debt_data['Minimum Monthly Payment'].iloc[i] + extra_payment_vars[i].varValue for i in range(len(debt_data))}\n",
        "        total_interest_saved = sum(extra_payment_vars[i].varValue * debt_data['Interest Rate'].iloc[i] for i in range(len(debt_data)))\n",
        "        return payment_allocation\n",
        "    else:\n",
        "        print(\"The model did not solve successfully.\")\n",
        "        return None\n",
        "\n",
        "# Example usage of the function\n",
        "\n",
        "payment_allocation = optimize_payments(student_debt_data, total_available_funds)\n",
        "print(payment_allocation)"
      ],
      "metadata": {
        "colab": {
          "base_uri": "https://localhost:8080/"
        },
        "id": "N231_BphJDYv",
        "outputId": "7d1d022f-b12a-465f-9d1b-36aba37dea6e"
      },
      "execution_count": null,
      "outputs": [
        {
          "output_type": "stream",
          "name": "stdout",
          "text": [
            "{'Debt_0': 408.9782608695652, 'Debt_1': 888.4568144827587, 'Debt_2': 321.0943396226415, 'Debt_3': 281.47058823529414}\n"
          ]
        }
      ]
    },
    {
      "cell_type": "code",
      "source": [
        "from pulp import LpProblem, LpMinimize, LpVariable, lpSum, LpStatus\n",
        "import pandas as pd\n",
        "\n",
        "def optimize_payments(debt_data, available_funds):\n",
        "    # Ensure the required columns exist\n",
        "    required_columns = ['Balance', 'Minimum Monthly Payment', 'Interest Rate']\n",
        "    for col in required_columns:\n",
        "        if col not in debt_data.columns:\n",
        "            raise KeyError(f\"Column '{col}' is missing from the debt_data DataFrame\")\n",
        "\n",
        "    # Create the problem\n",
        "    prob = LpProblem(\"Debt_Payment_Strategy\", LpMinimize)\n",
        "\n",
        "    # Define decision variables for the additional payments above the minimum\n",
        "    extra_payment_vars = [LpVariable(f\"Extra_Payment_{i}\", lowBound=0) for i in range(len(debt_data))]\n",
        "\n",
        "    # Define the objective function to minimize the total interest paid\n",
        "    prob += lpSum([extra_payment_vars[i] * debt_data['Interest Rate'].iloc[i] for i in range(len(debt_data))])\n",
        "\n",
        "    # Add constraints for each debt\n",
        "    for i in range(len(debt_data)):\n",
        "        row = debt_data.iloc[i]\n",
        "        # Ensure additional payments do not exceed the debt balance\n",
        "        prob += extra_payment_vars[i] <= row['Balance'], f\"Extra_payment_limit_debt_{i}\"\n",
        "\n",
        "    # Add a constraint for the total additional funds\n",
        "    prob += lpSum(extra_payment_vars) <= available_funds, \"Excess_funds_limit\"\n",
        "\n",
        "    # Solve the problem\n",
        "    prob.solve()\n",
        "\n",
        "    # Check if the problem is solved successfully\n",
        "    if prob.status == 1:\n",
        "        # Return the payment allocation including the minimum payments\n",
        "        payment_allocation = {f\"Payment_{i}\": debt_data['Minimum Monthly Payment'].iloc[i] + extra_payment_vars[i].varValue for i in range(len(debt_data))}\n",
        "        return payment_allocation\n",
        "    else:\n",
        "        print(\"The model did not solve successfully.\")\n",
        "        return None\n",
        "\n",
        "def simulate_monthly_payments(debt_data, available_funds, months):\n",
        "    for month in range(1, months + 1):\n",
        "        print(f\"Month {month}\")\n",
        "        payment_allocation = optimize_payments(debt_data, available_funds)\n",
        "        if payment_allocation is None:\n",
        "            print(\"Optimization failed.\")\n",
        "            break\n",
        "\n",
        "        print(f\"Payment Allocation: {payment_allocation}\")\n",
        "\n",
        "        # Update balances based on the payment allocation\n",
        "        for i in range(len(debt_data)):\n",
        "            payment = payment_allocation[f\"Payment_{i}\"]\n",
        "            debt_data.at[i, 'Balance'] -= payment\n",
        "\n",
        "        # If all debts are paid off, break the loop\n",
        "        if debt_data['Balance'].sum() <= 0:\n",
        "            print(\"All debts are paid off!\")\n",
        "            break\n",
        "\n",
        "simulate_monthly_payments(student_debt_data, total_available_funds, 12)"
      ],
      "metadata": {
        "colab": {
          "base_uri": "https://localhost:8080/"
        },
        "id": "fUxcf8E1Rkh0",
        "outputId": "00d69beb-844e-41a2-a69f-1256f4d35a59"
      },
      "execution_count": null,
      "outputs": [
        {
          "output_type": "stream",
          "name": "stdout",
          "text": [
            "Month 1\n",
            "Payment Allocation: {'Payment_0': 408.9782608695652, 'Payment_1': 311.9310344827586, 'Payment_2': 321.0943396226415, 'Payment_3': 281.47058823529414}\n",
            "Month 2\n",
            "Payment Allocation: {'Payment_0': 408.9782608695652, 'Payment_1': 311.9310344827586, 'Payment_2': 321.0943396226415, 'Payment_3': 281.47058823529414}\n",
            "Month 3\n",
            "Payment Allocation: {'Payment_0': 408.9782608695652, 'Payment_1': 311.9310344827586, 'Payment_2': 321.0943396226415, 'Payment_3': 281.47058823529414}\n",
            "Month 4\n",
            "Payment Allocation: {'Payment_0': 408.9782608695652, 'Payment_1': 311.9310344827586, 'Payment_2': 321.0943396226415, 'Payment_3': 281.47058823529414}\n",
            "Month 5\n",
            "Payment Allocation: {'Payment_0': 408.9782608695652, 'Payment_1': 311.9310344827586, 'Payment_2': 321.0943396226415, 'Payment_3': 281.47058823529414}\n",
            "Month 6\n",
            "Payment Allocation: {'Payment_0': 408.9782608695652, 'Payment_1': 311.9310344827586, 'Payment_2': 321.0943396226415, 'Payment_3': 281.47058823529414}\n",
            "Month 7\n",
            "Payment Allocation: {'Payment_0': 408.9782608695652, 'Payment_1': 311.9310344827586, 'Payment_2': 321.0943396226415, 'Payment_3': 281.47058823529414}\n",
            "Month 8\n",
            "Payment Allocation: {'Payment_0': 408.9782608695652, 'Payment_1': 311.9310344827586, 'Payment_2': 321.0943396226415, 'Payment_3': 281.47058823529414}\n",
            "Month 9\n",
            "Payment Allocation: {'Payment_0': 408.9782608695652, 'Payment_1': 311.9310344827586, 'Payment_2': 321.0943396226415, 'Payment_3': 281.47058823529414}\n",
            "Month 10\n",
            "Payment Allocation: {'Payment_0': 408.9782608695652, 'Payment_1': 311.9310344827586, 'Payment_2': 321.0943396226415, 'Payment_3': 281.47058823529414}\n",
            "Month 11\n",
            "Payment Allocation: {'Payment_0': 408.9782608695652, 'Payment_1': 311.9310344827586, 'Payment_2': 321.0943396226415, 'Payment_3': 281.47058823529414}\n",
            "Month 12\n",
            "Payment Allocation: {'Payment_0': 408.9782608695652, 'Payment_1': 311.9310344827586, 'Payment_2': 321.0943396226415, 'Payment_3': 281.47058823529414}\n"
          ]
        }
      ]
    }
  ]
}